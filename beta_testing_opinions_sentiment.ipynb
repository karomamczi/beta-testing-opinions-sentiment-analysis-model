{
 "cells": [
  {
   "cell_type": "markdown",
   "metadata": {},
   "source": [
    "# Beta Testing Opinions | Sentiment Analysis Model\n",
    "\n",
    "_Author: Karolina Mamczarz_\n",
    "\n",
    "_Based on: [Deep Learning Nanodegree Program | Udacity](https://www.udacity.com/course/deep-learning-nanodegree--nd101)_\n",
    "\n",
    "## Description\n",
    "\n",
    "PyTorch is used as a training tool. It is an open source machine learning framweork."
   ]
  },
  {
   "cell_type": "markdown",
   "metadata": {},
   "source": [
    "## Load dataset\n",
    "\n",
    "Reaserch will use [Amazon Review Data (2018)](https://nijianmo.github.io/amazon/index.html) datasets. [Video Games subset](http://deepyeti.ucsd.edu/jianmo/amazon/categoryFilesSmall/Video_Games_5.json.gz) will be used for training and [Software subset](http://deepyeti.ucsd.edu/jianmo/amazon/categoryFilesSmall/Software_5.json.gz) - for testing. Dataset was downloaded on March 4th, 2020. See citiation below:\n",
    "\n",
    "> Jianmo Ni, Jiacheng Li, Julian McAuley, **Justifying recommendations using distantly-labeled reviews and fined-grained aspects**, _Empirical Methods in Natural Language Processing (EMNLP)_, 2019"
   ]
  },
  {
   "cell_type": "markdown",
   "metadata": {},
   "source": [
    "### Read sentiment data"
   ]
  },
  {
   "cell_type": "code",
   "execution_count": 28,
   "metadata": {},
   "outputs": [],
   "source": [
    "import gzip\n",
    "import json\n",
    "\n",
    "def parse_dataset(path):\n",
    "  g = gzip.open(path, 'r')\n",
    "  for l in g:\n",
    "    yield json.loads(l)"
   ]
  },
  {
   "cell_type": "code",
   "execution_count": 74,
   "metadata": {},
   "outputs": [],
   "source": [
    "def get_sentiment_data(path):\n",
    "    data = {'pos': [], 'neg': []}\n",
    "    labels = {'pos': [], 'neg': []}\n",
    "\n",
    "    for review in parse_dataset(path):\n",
    "        if 'reviewText' in review:\n",
    "            if review['overall'] >= 4.0:\n",
    "                data['pos'].append(review['reviewText'])\n",
    "                labels['pos'].append(1)\n",
    "            elif review['overall'] <= 2.0:\n",
    "                data['neg'].append(review['reviewText'])\n",
    "                labels['neg'].append(0)\n",
    "    \n",
    "    for sentiment in ['pos', 'neg']:\n",
    "        assert len(data[sentiment]) == len(labels[sentiment]), \\\n",
    "                    \"{} data size does not match labels size\".format(sentiment)\n",
    "    \n",
    "    return data, labels   "
   ]
  },
  {
   "cell_type": "code",
   "execution_count": 75,
   "metadata": {},
   "outputs": [
    {
     "name": "stdout",
     "output_type": "stream",
     "text": [
      "Reviews Video Games: 393267 pos / 55012 neg\n",
      "Reviews Software: 8987 pos / 2219 neg\n"
     ]
    }
   ],
   "source": [
    "train_data, train_labels = get_sentiment_data('./data/Video_Games_5.json.gz')\n",
    "test_data, test_labels = get_sentiment_data('./data/Software_5.json.gz')\n",
    "\n",
    "print('Reviews Video Games: {} pos / {} neg'.format(len(train_data['pos']), len(train_data['neg'])))\n",
    "print('Reviews Software: {} pos / {} neg'.format(len(test_data['pos']), len(test_data['neg'])))"
   ]
  },
  {
   "cell_type": "markdown",
   "metadata": {},
   "source": [
    "### Combine and shuffle sentiment data"
   ]
  },
  {
   "cell_type": "code",
   "execution_count": null,
   "metadata": {},
   "outputs": [],
   "source": [
    "# TODO: Combine with shuffle"
   ]
  }
 ],
 "metadata": {
  "kernelspec": {
   "display_name": "Python 3",
   "language": "python",
   "name": "python3"
  },
  "language_info": {
   "codemirror_mode": {
    "name": "ipython",
    "version": 3
   },
   "file_extension": ".py",
   "mimetype": "text/x-python",
   "name": "python",
   "nbconvert_exporter": "python",
   "pygments_lexer": "ipython3",
   "version": "3.6.7"
  }
 },
 "nbformat": 4,
 "nbformat_minor": 2
}
