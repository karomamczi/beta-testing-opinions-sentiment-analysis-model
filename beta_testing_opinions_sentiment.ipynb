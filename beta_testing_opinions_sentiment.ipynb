{
 "cells": [
  {
   "cell_type": "markdown",
   "metadata": {},
   "source": [
    "# Beta Testing Opinions | Sentiment Analysis Model\n",
    "\n",
    "_Author: Karolina Mamczarz_\n",
    "\n",
    "_Based on: [Deep Learning Nanodegree Program | Udacity](https://www.udacity.com/course/deep-learning-nanodegree--nd101)_\n",
    "\n",
    "## Description\n",
    "\n",
    "PyTorch is used as a training tool. It is an open source machine learning framweork."
   ]
  },
  {
   "cell_type": "markdown",
   "metadata": {},
   "source": [
    "## Load dataset\n",
    "\n",
    "Reaserch will use [Amazon Review Data (2018)](https://nijianmo.github.io/amazon/index.html) datasets (downloaded on March 4th, 2020):\n",
    "* [Video Games subset](http://deepyeti.ucsd.edu/jianmo/amazon/categoryFilesSmall/Video_Games_5.json.gz)\n",
    "* [Software subset](http://deepyeti.ucsd.edu/jianmo/amazon/categoryFilesSmall/Software_5.json.gz)\n",
    "\n",
    "See citiation below:\n",
    "\n",
    "> Jianmo Ni, Jiacheng Li, Julian McAuley, **Justifying recommendations using distantly-labeled reviews and fined-grained aspects**, _Empirical Methods in Natural Language Processing (EMNLP)_, 2019"
   ]
  },
  {
   "cell_type": "markdown",
   "metadata": {},
   "source": [
    "### Read sentiment data"
   ]
  },
  {
   "cell_type": "code",
   "execution_count": 106,
   "metadata": {},
   "outputs": [],
   "source": [
    "import gzip\n",
    "import json\n",
    "\n",
    "def parse_dataset(path):\n",
    "  g = gzip.open(path, 'r')\n",
    "  for l in g:\n",
    "    yield json.loads(l)"
   ]
  },
  {
   "cell_type": "code",
   "execution_count": 107,
   "metadata": {},
   "outputs": [],
   "source": [
    "def get_sentiment_data(path):\n",
    "    data = {'pos': [], 'neg': []}\n",
    "    labels = {'pos': [], 'neg': []}\n",
    "\n",
    "    for review in parse_dataset(path):\n",
    "        if 'reviewText' in review:\n",
    "            if review['overall'] >= 4.0:\n",
    "                data['pos'].append(review['reviewText'])\n",
    "                labels['pos'].append(1)\n",
    "            elif review['overall'] <= 2.0:\n",
    "                data['neg'].append(review['reviewText'])\n",
    "                labels['neg'].append(0)\n",
    "    \n",
    "    for sentiment in ['pos', 'neg']:\n",
    "        assert len(data[sentiment]) == len(labels[sentiment]), \\\n",
    "                    \"{} data size does not match labels size\".format(sentiment)\n",
    "    \n",
    "    return data, labels   "
   ]
  },
  {
   "cell_type": "code",
   "execution_count": 108,
   "metadata": {},
   "outputs": [
    {
     "name": "stdout",
     "output_type": "stream",
     "text": [
      "Reviews Video Games: 393267 pos / 55012 neg\n",
      "Reviews Software: 8987 pos / 2219 neg\n"
     ]
    }
   ],
   "source": [
    "pre_data_train, pre_labels_train = get_sentiment_data('./data/Video_Games_5.json.gz')\n",
    "pre_data_test, pre_labels_test = get_sentiment_data('./data/Software_5.json.gz')\n",
    "\n",
    "print('Reviews Video Games: {} pos / {} neg'.format(len(pre_data_train['pos']), len(pre_data_train['neg'])))\n",
    "print('Reviews Software: {} pos / {} neg'.format(len(pre_data_test['pos']), len(pre_data_test['neg'])))"
   ]
  },
  {
   "cell_type": "markdown",
   "metadata": {},
   "source": [
    "### Adjust probe number"
   ]
  },
  {
   "cell_type": "code",
   "execution_count": 109,
   "metadata": {},
   "outputs": [],
   "source": [
    "# Adjustment for case, when train dataset is bigger than test dataset\n",
    "# Reviews Video Games: 393267 pos / 55012 neg\n",
    "# Reviews Software: 8987 pos / 2219 neg\n",
    "\n",
    "def adjust_probe_number(train, test):\n",
    "    probe_number = 10000\n",
    "    adj_train = {'pos': [], 'neg': []}\n",
    "    adj_test = {'pos': [], 'neg': []}\n",
    "    \n",
    "    for sentiment in ['pos', 'neg']:\n",
    "        probe_test_diff = abs(probe_number - len(test[sentiment]))\n",
    "        \n",
    "        adj_test[sentiment] = test[sentiment] + train[sentiment][0:probe_test_diff]\n",
    "        adj_train[sentiment] = train[sentiment][probe_test_diff:probe_test_diff+probe_number]\n",
    "    \n",
    "    return adj_train, adj_test"
   ]
  },
  {
   "cell_type": "code",
   "execution_count": 110,
   "metadata": {},
   "outputs": [
    {
     "name": "stdout",
     "output_type": "stream",
     "text": [
      "Reviews Video Games after probe number adjustment: 10000 pos / 10000 neg (labels  10000 pos / 10000 neg)\n",
      "Reviews Software after probe number adjustment: 10000 pos / 10000 neg (labels  10000 pos / 10000 neg)\n"
     ]
    }
   ],
   "source": [
    "data_train, data_test = adjust_probe_number(pre_data_train, pre_data_test)\n",
    "labels_train, labels_test = adjust_probe_number(pre_labels_train, pre_labels_test)\n",
    "\n",
    "print('Reviews Video Games after probe number adjustment: {} pos / {} neg (labels  {} pos / {} neg)'.format(len(data_train['pos']), len(data_train['neg']), len(labels_train['pos']), len(labels_train['neg'])))\n",
    "print('Reviews Software after probe number adjustment: {} pos / {} neg (labels  {} pos / {} neg)'.format(len(data_test['pos']), len(data_test['neg']), len(labels_test['pos']), len(labels_test['neg'])))"
   ]
  },
  {
   "cell_type": "markdown",
   "metadata": {},
   "source": [
    "### Combine and shuffle sentiment data"
   ]
  },
  {
   "cell_type": "code",
   "execution_count": 111,
   "metadata": {},
   "outputs": [],
   "source": [
    "from sklearn.utils import shuffle\n",
    "\n",
    "def get_combined_data(data_train, labels_train, data_test, labels_test):\n",
    "    d_train = data_train['pos'] + data_train['neg']\n",
    "    l_train = labels_train['pos'] + labels_train['neg']\n",
    "    d_test = data_test['pos'] + data_test['neg']\n",
    "    l_test = labels_test['pos'] + labels_test['neg']\n",
    "    \n",
    "    d_train, l_train = shuffle(d_train, l_train)\n",
    "    d_test, l_test = shuffle(d_test, l_test)\n",
    "    \n",
    "    return d_train, d_test, l_train, l_test"
   ]
  },
  {
   "cell_type": "code",
   "execution_count": 112,
   "metadata": {},
   "outputs": [
    {
     "name": "stdout",
     "output_type": "stream",
     "text": [
      "Reviews (combined): train = 20000, test = 20000\n"
     ]
    }
   ],
   "source": [
    "pre_train_X, pre_test_X, pre_train_Y, pre_test_Y = get_combined_data(data_train, labels_train, data_test, labels_test)\n",
    "print(\"Reviews (combined): train = {}, test = {}\".format(len(pre_train_X), len(pre_test_X)))"
   ]
  },
  {
   "cell_type": "code",
   "execution_count": 113,
   "metadata": {},
   "outputs": [
    {
     "name": "stdout",
     "output_type": "stream",
     "text": [
      "This ain't Resident Evil, folks. More like Gears of Evil. The graphics are nice, too bad they decided to skip out on the gameplay or plot. It took 4 years to make this? Capcom pumped out the classics of Resident Evil 1,2,3 and Code Veronica in the same time span of 4 years. If you want a real survival horror or just a good game go play the originals. (Except for Zero)\n",
      "0\n"
     ]
    }
   ],
   "source": [
    "print(pre_train_X[100])\n",
    "print(pre_train_Y[100])"
   ]
  },
  {
   "cell_type": "markdown",
   "metadata": {},
   "source": [
    "### Clean up sentiment data"
   ]
  },
  {
   "cell_type": "code",
   "execution_count": 114,
   "metadata": {},
   "outputs": [],
   "source": [
    "import nltk\n",
    "from nltk.corpus import stopwords\n",
    "from nltk.stem.porter import *\n",
    "\n",
    "import re\n",
    "from bs4 import BeautifulSoup\n",
    "\n",
    "def review_to_words(review):\n",
    "    nltk.download(\"stopwords\", quiet=True)\n",
    "    stemmer = PorterStemmer()\n",
    "    \n",
    "    text = BeautifulSoup(review, \"html.parser\").get_text() # Remove HTML tags\n",
    "    text = re.sub(r\"[^a-zA-Z0-9]\", \" \", text.lower()) # Convert to lower case\n",
    "    words = text.split() # Split string into words\n",
    "    words = [w for w in words if w not in stopwords.words(\"english\")] # Remove stopwords\n",
    "    words = [PorterStemmer().stem(w) for w in words] # stem\n",
    "    \n",
    "    return words"
   ]
  },
  {
   "cell_type": "code",
   "execution_count": 115,
   "metadata": {},
   "outputs": [
    {
     "name": "stdout",
     "output_type": "stream",
     "text": [
      "['resid', 'evil', 'folk', 'like', 'gear', 'evil', 'graphic', 'nice', 'bad', 'decid', 'skip', 'gameplay', 'plot', 'took', '4', 'year', 'make', 'capcom', 'pump', 'classic', 'resid', 'evil', '1', '2', '3', 'code', 'veronica', 'time', 'span', '4', 'year', 'want', 'real', 'surviv', 'horror', 'good', 'game', 'go', 'play', 'origin', 'except', 'zero']\n",
      "10000\n"
     ]
    }
   ],
   "source": [
    "print(review_to_words(pre_train_X[100]))"
   ]
  },
  {
   "cell_type": "markdown",
   "metadata": {},
   "source": [
    "### Process sentiment data"
   ]
  },
  {
   "cell_type": "code",
   "execution_count": 116,
   "metadata": {},
   "outputs": [],
   "source": [
    "import pickle, os\n",
    "\n",
    "cache_dir = os.path.join(\"./cache\", \"sentiment_analysis\")\n",
    "os.makedirs(cache_dir, exist_ok=True)\n",
    "\n",
    "def preprocess_data(data_train, data_test, labels_train, labels_test,\n",
    "                    cache_dir=cache_dir, cache_file=\"preprocessed_data.pkl\"):\n",
    "    cache_data = None\n",
    "    if cache_file is not None:\n",
    "        try:\n",
    "            with open(os.path.join(cache_dir, cache_file), \"rb\") as f:\n",
    "                cache_data = pickle.load(f)\n",
    "            print(\"Read preprocessed data from cache file:\", cache_file)\n",
    "        except:\n",
    "            pass\n",
    "    \n",
    "    if cache_data is None:\n",
    "        words_train = [review_to_words(review) for review in data_train]\n",
    "        words_test = [review_to_words(review) for review in data_test]\n",
    "        \n",
    "        if cache_file is not None:\n",
    "            cache_data = dict(words_train=words_train, words_test=words_test,\n",
    "                              labels_train=labels_train, labels_test=labels_test)\n",
    "            with open(os.path.join(cache_dir, cache_file), \"wb\") as f:\n",
    "                pickle.dump(cache_data, f)\n",
    "            print(\"Wrote preprocessed data to cache file:\", cache_file)\n",
    "    else:\n",
    "        words_train, words_test, labels_train, labels_test = (cache_data['words_train'],\n",
    "                cache_data['words_test'], cache_data['labels_train'], cache_data['labels_test'])\n",
    "    \n",
    "    return words_train, words_test, labels_train, labels_test"
   ]
  },
  {
   "cell_type": "code",
   "execution_count": null,
   "metadata": {},
   "outputs": [],
   "source": [
    "train_X, test_X, train_Y, test_Y = preprocess_data(pre_train_X, pre_test_X, pre_train_Y, pre_test_Y)"
   ]
  },
  {
   "cell_type": "code",
   "execution_count": null,
   "metadata": {},
   "outputs": [],
   "source": []
  }
 ],
 "metadata": {
  "kernelspec": {
   "display_name": "Python 3",
   "language": "python",
   "name": "python3"
  },
  "language_info": {
   "codemirror_mode": {
    "name": "ipython",
    "version": 3
   },
   "file_extension": ".py",
   "mimetype": "text/x-python",
   "name": "python",
   "nbconvert_exporter": "python",
   "pygments_lexer": "ipython3",
   "version": "3.6.7"
  }
 },
 "nbformat": 4,
 "nbformat_minor": 2
}
